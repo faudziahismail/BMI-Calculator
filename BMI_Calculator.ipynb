{
 "cells": [
  {
   "cell_type": "markdown",
   "id": "12df514b-43c0-4768-9f46-1f35ecb1be06",
   "metadata": {},
   "source": [
    "# BMI Calculator"
   ]
  },
  {
   "cell_type": "code",
   "execution_count": 13,
   "id": "e34101e2-8854-4040-87bd-d8e4bdc31029",
   "metadata": {},
   "outputs": [
    {
     "name": "stdin",
     "output_type": "stream",
     "text": [
      "Enter Your Name fau\n",
      "Enter your weight in kilograms (kg) :  53\n",
      "Enter your height in metres (m) :  1.53\n"
     ]
    },
    {
     "name": "stdout",
     "output_type": "stream",
     "text": [
      "Your BMI is 22.64\n",
      "fau, you are at Normal Weight.\n"
     ]
    }
   ],
   "source": [
    "# Use input function\n",
    "name = input(\"Enter Your Name\")\n",
    "weight = int(input(\"Enter your weight in kilograms (kg) : \"))\n",
    "\n",
    "height = float(input(\"Enter your height in metres (m) : \"))\n",
    "\n",
    "BMI_Formula_Metrics = weight /(height * height) \n",
    "\n",
    "print(\"Your BMI is\" , round(BMI_Formula_Metrics,2))\n",
    "\n",
    "if BMI_Formula_Metrics > 0 :\n",
    "    if(BMI_Formula_Metrics<18.5) :\n",
    "        print(name + \", you are Underweight.\")   \n",
    "    elif(BMI_Formula_Metrics <=24.9) :\n",
    "        print(name + \", you are at Normal Weight.\")\n",
    "    elif(BMI_Formula_Metrics <=29.9) :\n",
    "        print(name + \", you are Overweight.\")\n",
    "    elif(BMI_Formula_Metrics >=30) :\n",
    "        print(name + \", you are Obessed.\")\n",
    "    else :\n",
    "        print(\"Enter Valid Input\")"
   ]
  },
  {
   "cell_type": "code",
   "execution_count": 30,
   "id": "5a713ef2-69cc-4be6-a0e5-b436cef2d272",
   "metadata": {},
   "outputs": [
    {
     "data": {
      "text/plain": [
       "str"
      ]
     },
     "execution_count": 30,
     "metadata": {},
     "output_type": "execute_result"
    }
   ],
   "source": [
    "type(height)"
   ]
  },
  {
   "cell_type": "code",
   "execution_count": null,
   "id": "d58f5e01-8cbf-42c5-a838-f8e552d5a63b",
   "metadata": {},
   "outputs": [],
   "source": []
  },
  {
   "cell_type": "code",
   "execution_count": null,
   "id": "ad3f0bea-a882-41b3-83c2-04d87ab7cefb",
   "metadata": {},
   "outputs": [],
   "source": []
  },
  {
   "cell_type": "code",
   "execution_count": null,
   "id": "88abd694-2f9f-422f-8567-6ef2f68ccc89",
   "metadata": {},
   "outputs": [],
   "source": [
    "# BMI Formula in Metrics = Weight(kg) /Height^2 (m)\n"
   ]
  },
  {
   "cell_type": "code",
   "execution_count": null,
   "id": "69f197f8-d005-401f-8d16-27211efd89c8",
   "metadata": {},
   "outputs": [],
   "source": [
    "\t\n",
    "BMI Categories:\n",
    "Underweight = <18.5\n",
    "Normal weight = 18.5–24.9\n",
    "Overweight = 25–29.9\n",
    "Obesity = BMI of 30 or greater"
   ]
  },
  {
   "cell_type": "code",
   "execution_count": 61,
   "id": "d3ad05df-bdc8-40f3-9edf-38e52f54d735",
   "metadata": {},
   "outputs": [
    {
     "name": "stdout",
     "output_type": "stream",
     "text": [
      "Faudziah, you are Overweight.\n"
     ]
    }
   ],
   "source": []
  },
  {
   "cell_type": "code",
   "execution_count": null,
   "id": "e11be8d7-4bd0-4082-aee4-c7d8ef6a8287",
   "metadata": {},
   "outputs": [],
   "source": []
  },
  {
   "cell_type": "code",
   "execution_count": null,
   "id": "1ee09a5d-a366-4846-b146-f99a4460d04a",
   "metadata": {},
   "outputs": [],
   "source": []
  },
  {
   "cell_type": "code",
   "execution_count": null,
   "id": "aca0b6fb-7ae3-4251-bcff-6ad239b3e7af",
   "metadata": {},
   "outputs": [],
   "source": []
  },
  {
   "cell_type": "code",
   "execution_count": null,
   "id": "e169a2b6-3ea5-4dcd-a5d0-3f91067fa805",
   "metadata": {},
   "outputs": [],
   "source": []
  }
 ],
 "metadata": {
  "kernelspec": {
   "display_name": "Python [conda env:base] *",
   "language": "python",
   "name": "conda-base-py"
  },
  "language_info": {
   "codemirror_mode": {
    "name": "ipython",
    "version": 3
   },
   "file_extension": ".py",
   "mimetype": "text/x-python",
   "name": "python",
   "nbconvert_exporter": "python",
   "pygments_lexer": "ipython3",
   "version": "3.12.7"
  }
 },
 "nbformat": 4,
 "nbformat_minor": 5
}
